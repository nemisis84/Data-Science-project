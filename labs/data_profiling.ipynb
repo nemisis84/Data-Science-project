{
 "cells": [
  {
   "cell_type": "code",
   "execution_count": 24,
   "metadata": {},
   "outputs": [],
   "source": [
    "import pandas as pd\n",
    "import numpy as np"
   ]
  },
  {
   "cell_type": "markdown",
   "metadata": {},
   "source": [
    "### Classification pos covid"
   ]
  },
  {
   "cell_type": "code",
   "execution_count": 25,
   "metadata": {},
   "outputs": [],
   "source": [
    "df = pd.read_csv('../datasets/class_pos_covid.csv')"
   ]
  },
  {
   "cell_type": "code",
   "execution_count": 26,
   "metadata": {},
   "outputs": [
    {
     "name": "stdout",
     "output_type": "stream",
     "text": [
      "Number of Records: 380932\n",
      "Number of Variables: 40\n"
     ]
    }
   ],
   "source": [
    "# Records x variables\n",
    "num_records = len(df)\n",
    "num_variables = df.shape[1]\n",
    "print(f\"Number of Records: {num_records}\")\n",
    "print(f\"Number of Variables: {num_variables}\")"
   ]
  },
  {
   "cell_type": "code",
   "execution_count": 27,
   "metadata": {},
   "outputs": [
    {
     "name": "stdout",
     "output_type": "stream",
     "text": [
      "object     34\n",
      "float64     6\n",
      "Name: count, dtype: int64\n"
     ]
    }
   ],
   "source": [
    "# Nr variables per type\n",
    "variable_types = df.dtypes.value_counts()\n",
    "print(variable_types)"
   ]
  },
  {
   "cell_type": "code",
   "execution_count": 28,
   "metadata": {},
   "outputs": [
    {
     "name": "stdout",
     "output_type": "stream",
     "text": [
      "Total Missing Values: 250345\n"
     ]
    }
   ],
   "source": [
    "# Find missing values\n",
    "missing_values = df.isna().sum()\n",
    "total_missing_values = missing_values.sum()\n",
    "print(f\"Total Missing Values: {total_missing_values}\")"
   ]
  },
  {
   "cell_type": "markdown",
   "metadata": {},
   "source": [
    "### Classification credit score"
   ]
  },
  {
   "cell_type": "code",
   "execution_count": 29,
   "metadata": {},
   "outputs": [],
   "source": [
    "df = pd.read_csv('../datasets/class_credit_score.csv')"
   ]
  },
  {
   "cell_type": "code",
   "execution_count": 30,
   "metadata": {},
   "outputs": [
    {
     "name": "stdout",
     "output_type": "stream",
     "text": [
      "Number of Records: 100000\n",
      "Number of Variables: 28\n"
     ]
    }
   ],
   "source": [
    "# Records x variables\n",
    "num_records = len(df)\n",
    "num_variables = df.shape[1]\n",
    "print(f\"Number of Records: {num_records}\")\n",
    "print(f\"Number of Variables: {num_variables}\")"
   ]
  },
  {
   "cell_type": "code",
   "execution_count": 31,
   "metadata": {},
   "outputs": [
    {
     "name": "stdout",
     "output_type": "stream",
     "text": [
      "object     13\n",
      "float64    10\n",
      "int64       5\n",
      "Name: count, dtype: int64\n"
     ]
    }
   ],
   "source": [
    "# Nr variables per type\n",
    "variable_types = df.dtypes.value_counts()\n",
    "print(variable_types)"
   ]
  },
  {
   "cell_type": "code",
   "execution_count": 32,
   "metadata": {},
   "outputs": [
    {
     "name": "stdout",
     "output_type": "stream",
     "text": [
      "Total Missing Values: 102591\n"
     ]
    }
   ],
   "source": [
    "# Find missing values\n",
    "missing_values = df.isna().sum()\n",
    "total_missing_values = missing_values.sum()\n",
    "print(f\"Total Missing Values: {total_missing_values}\")"
   ]
  },
  {
   "cell_type": "code",
   "execution_count": null,
   "metadata": {},
   "outputs": [],
   "source": []
  }
 ],
 "metadata": {
  "kernelspec": {
   "display_name": "Python 3",
   "language": "python",
   "name": "python3"
  },
  "language_info": {
   "codemirror_mode": {
    "name": "ipython",
    "version": 3
   },
   "file_extension": ".py",
   "mimetype": "text/x-python",
   "name": "python",
   "nbconvert_exporter": "python",
   "pygments_lexer": "ipython3",
   "version": "3.11.5"
  }
 },
 "nbformat": 4,
 "nbformat_minor": 2
}
