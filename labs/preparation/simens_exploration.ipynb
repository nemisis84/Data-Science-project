{
 "cells": [
  {
   "cell_type": "code",
   "execution_count": 63,
   "metadata": {},
   "outputs": [],
   "source": [
    "import pandas as pd\n",
    "from helpers.dslabs_functions import get_variable_types\n",
    "import numpy as np\n",
    "from feature_selection import select_variables"
   ]
  },
  {
   "cell_type": "code",
   "execution_count": 70,
   "metadata": {},
   "outputs": [
    {
     "data": {
      "text/html": [
       "<div>\n",
       "<style scoped>\n",
       "    .dataframe tbody tr th:only-of-type {\n",
       "        vertical-align: middle;\n",
       "    }\n",
       "\n",
       "    .dataframe tbody tr th {\n",
       "        vertical-align: top;\n",
       "    }\n",
       "\n",
       "    .dataframe thead th {\n",
       "        text-align: right;\n",
       "    }\n",
       "</style>\n",
       "<table border=\"1\" class=\"dataframe\">\n",
       "  <thead>\n",
       "    <tr style=\"text-align: right;\">\n",
       "      <th></th>\n",
       "      <th>Sex</th>\n",
       "      <th>GeneralHealth</th>\n",
       "      <th>PhysicalHealthDays</th>\n",
       "      <th>MentalHealthDays</th>\n",
       "      <th>LastCheckupTime</th>\n",
       "      <th>PhysicalActivities</th>\n",
       "      <th>SleepHours</th>\n",
       "      <th>RemovedTeeth</th>\n",
       "      <th>HadHeartAttack</th>\n",
       "      <th>HadAngina</th>\n",
       "      <th>...</th>\n",
       "      <th>BMI</th>\n",
       "      <th>AlcoholDrinkers</th>\n",
       "      <th>HIVTesting</th>\n",
       "      <th>FluVaxLast12</th>\n",
       "      <th>PneumoVaxEver</th>\n",
       "      <th>TetanusLast10Tdap</th>\n",
       "      <th>HighRiskLastYear</th>\n",
       "      <th>Latitude</th>\n",
       "      <th>Longitude</th>\n",
       "      <th>CovidPos</th>\n",
       "    </tr>\n",
       "  </thead>\n",
       "  <tbody>\n",
       "    <tr>\n",
       "      <th>0</th>\n",
       "      <td>-0.943597</td>\n",
       "      <td>0.549101</td>\n",
       "      <td>-0.546423</td>\n",
       "      <td>-0.572381</td>\n",
       "      <td>-0.473363</td>\n",
       "      <td>-1.776903</td>\n",
       "      <td>0.772370</td>\n",
       "      <td>0.701224</td>\n",
       "      <td>-0.249881</td>\n",
       "      <td>-0.260774</td>\n",
       "      <td>...</td>\n",
       "      <td>0.099910</td>\n",
       "      <td>-1.049845</td>\n",
       "      <td>-0.721053</td>\n",
       "      <td>0.953012</td>\n",
       "      <td>-0.849623</td>\n",
       "      <td>0.741466</td>\n",
       "      <td>-0.213474</td>\n",
       "      <td>-1.181924</td>\n",
       "      <td>0.306202</td>\n",
       "      <td>0.0</td>\n",
       "    </tr>\n",
       "    <tr>\n",
       "      <th>1</th>\n",
       "      <td>-0.943597</td>\n",
       "      <td>1.530281</td>\n",
       "      <td>-0.546423</td>\n",
       "      <td>-0.572381</td>\n",
       "      <td>-0.473363</td>\n",
       "      <td>-1.776903</td>\n",
       "      <td>-0.789026</td>\n",
       "      <td>-0.281284</td>\n",
       "      <td>-0.249881</td>\n",
       "      <td>-0.260774</td>\n",
       "      <td>...</td>\n",
       "      <td>-0.306035</td>\n",
       "      <td>-1.049845</td>\n",
       "      <td>-0.721053</td>\n",
       "      <td>-1.054318</td>\n",
       "      <td>-0.849623</td>\n",
       "      <td>-1.449789</td>\n",
       "      <td>-0.213474</td>\n",
       "      <td>-1.181924</td>\n",
       "      <td>0.306202</td>\n",
       "      <td>0.0</td>\n",
       "    </tr>\n",
       "    <tr>\n",
       "      <th>2</th>\n",
       "      <td>-0.943597</td>\n",
       "      <td>1.530281</td>\n",
       "      <td>-0.546423</td>\n",
       "      <td>-0.572381</td>\n",
       "      <td>-0.473363</td>\n",
       "      <td>0.563647</td>\n",
       "      <td>-0.008328</td>\n",
       "      <td>0.631045</td>\n",
       "      <td>-0.249881</td>\n",
       "      <td>-0.260774</td>\n",
       "      <td>...</td>\n",
       "      <td>-0.881181</td>\n",
       "      <td>-1.049845</td>\n",
       "      <td>-0.721053</td>\n",
       "      <td>0.953012</td>\n",
       "      <td>1.234555</td>\n",
       "      <td>-1.449789</td>\n",
       "      <td>-0.213474</td>\n",
       "      <td>-1.181924</td>\n",
       "      <td>0.306202</td>\n",
       "      <td>0.0</td>\n",
       "    </tr>\n",
       "    <tr>\n",
       "      <th>3</th>\n",
       "      <td>-0.943597</td>\n",
       "      <td>-1.413260</td>\n",
       "      <td>-0.252790</td>\n",
       "      <td>-0.572381</td>\n",
       "      <td>-0.473363</td>\n",
       "      <td>0.563647</td>\n",
       "      <td>1.553068</td>\n",
       "      <td>-0.421643</td>\n",
       "      <td>-0.249881</td>\n",
       "      <td>-0.260774</td>\n",
       "      <td>...</td>\n",
       "      <td>-1.150286</td>\n",
       "      <td>0.960953</td>\n",
       "      <td>-0.721053</td>\n",
       "      <td>-1.054318</td>\n",
       "      <td>1.234555</td>\n",
       "      <td>-1.449789</td>\n",
       "      <td>-0.213474</td>\n",
       "      <td>-1.181924</td>\n",
       "      <td>0.306202</td>\n",
       "      <td>0.0</td>\n",
       "    </tr>\n",
       "    <tr>\n",
       "      <th>4</th>\n",
       "      <td>1.059774</td>\n",
       "      <td>-2.076355</td>\n",
       "      <td>-0.399606</td>\n",
       "      <td>-0.572381</td>\n",
       "      <td>-0.473363</td>\n",
       "      <td>-1.776903</td>\n",
       "      <td>-0.008328</td>\n",
       "      <td>2.139897</td>\n",
       "      <td>4.027852</td>\n",
       "      <td>-0.260774</td>\n",
       "      <td>...</td>\n",
       "      <td>-0.392219</td>\n",
       "      <td>-1.049845</td>\n",
       "      <td>-0.721053</td>\n",
       "      <td>-1.054318</td>\n",
       "      <td>1.234555</td>\n",
       "      <td>-1.449789</td>\n",
       "      <td>-0.213474</td>\n",
       "      <td>-1.181924</td>\n",
       "      <td>0.306202</td>\n",
       "      <td>0.0</td>\n",
       "    </tr>\n",
       "  </tbody>\n",
       "</table>\n",
       "<p>5 rows × 41 columns</p>\n",
       "</div>"
      ],
      "text/plain": [
       "        Sex  GeneralHealth  PhysicalHealthDays  MentalHealthDays  \\\n",
       "0 -0.943597       0.549101           -0.546423         -0.572381   \n",
       "1 -0.943597       1.530281           -0.546423         -0.572381   \n",
       "2 -0.943597       1.530281           -0.546423         -0.572381   \n",
       "3 -0.943597      -1.413260           -0.252790         -0.572381   \n",
       "4  1.059774      -2.076355           -0.399606         -0.572381   \n",
       "\n",
       "   LastCheckupTime  PhysicalActivities  SleepHours  RemovedTeeth  \\\n",
       "0        -0.473363           -1.776903    0.772370      0.701224   \n",
       "1        -0.473363           -1.776903   -0.789026     -0.281284   \n",
       "2        -0.473363            0.563647   -0.008328      0.631045   \n",
       "3        -0.473363            0.563647    1.553068     -0.421643   \n",
       "4        -0.473363           -1.776903   -0.008328      2.139897   \n",
       "\n",
       "   HadHeartAttack  HadAngina  ...       BMI  AlcoholDrinkers  HIVTesting  \\\n",
       "0       -0.249881  -0.260774  ...  0.099910        -1.049845   -0.721053   \n",
       "1       -0.249881  -0.260774  ... -0.306035        -1.049845   -0.721053   \n",
       "2       -0.249881  -0.260774  ... -0.881181        -1.049845   -0.721053   \n",
       "3       -0.249881  -0.260774  ... -1.150286         0.960953   -0.721053   \n",
       "4        4.027852  -0.260774  ... -0.392219        -1.049845   -0.721053   \n",
       "\n",
       "   FluVaxLast12  PneumoVaxEver  TetanusLast10Tdap  HighRiskLastYear  Latitude  \\\n",
       "0      0.953012      -0.849623           0.741466         -0.213474 -1.181924   \n",
       "1     -1.054318      -0.849623          -1.449789         -0.213474 -1.181924   \n",
       "2      0.953012       1.234555          -1.449789         -0.213474 -1.181924   \n",
       "3     -1.054318       1.234555          -1.449789         -0.213474 -1.181924   \n",
       "4     -1.054318       1.234555          -1.449789         -0.213474 -1.181924   \n",
       "\n",
       "   Longitude  CovidPos  \n",
       "0   0.306202       0.0  \n",
       "1   0.306202       0.0  \n",
       "2   0.306202       0.0  \n",
       "3   0.306202       0.0  \n",
       "4   0.306202       0.0  \n",
       "\n",
       "[5 rows x 41 columns]"
      ]
     },
     "execution_count": 70,
     "metadata": {},
     "output_type": "execute_result"
    }
   ],
   "source": [
    "df = pd.read_csv('../../datasets/prepared/class_covidpos_4_zscore.csv')\n",
    "target = \"CovidPos\"\n",
    "df.head()"
   ]
  },
  {
   "cell_type": "code",
   "execution_count": 71,
   "metadata": {},
   "outputs": [
    {
     "data": {
      "text/plain": [
       "CovidPos\n",
       "0.0    269026\n",
       "1.0    110620\n",
       "Name: count, dtype: int64"
      ]
     },
     "execution_count": 71,
     "metadata": {},
     "output_type": "execute_result"
    }
   ],
   "source": [
    "df[\"CovidPos\"].value_counts()"
   ]
  },
  {
   "cell_type": "code",
   "execution_count": 65,
   "metadata": {},
   "outputs": [
    {
     "name": "stdout",
     "output_type": "stream",
     "text": [
      "Original variables ['Sex' 'GeneralHealth' 'PhysicalHealthDays' 'MentalHealthDays'\n",
      " 'LastCheckupTime' 'PhysicalActivities' 'SleepHours' 'RemovedTeeth'\n",
      " 'HadHeartAttack' 'HadAngina' 'HadStroke' 'HadAsthma' 'HadSkinCancer'\n",
      " 'HadCOPD' 'HadDepressiveDisorder' 'HadKidneyDisease' 'HadArthritis'\n",
      " 'HadDiabetes' 'DeafOrHardOfHearing' 'BlindOrVisionDifficulty'\n",
      " 'DifficultyConcentrating' 'DifficultyWalking' 'DifficultyDressingBathing'\n",
      " 'DifficultyErrands' 'SmokerStatus' 'ECigaretteUsage' 'ChestScan'\n",
      " 'RaceEthnicityCategory' 'AgeCategory' 'HeightInMeters'\n",
      " 'WeightInKilograms' 'BMI' 'AlcoholDrinkers' 'HIVTesting' 'FluVaxLast12'\n",
      " 'PneumoVaxEver' 'TetanusLast10Tdap' 'HighRiskLastYear' 'Latitude'\n",
      " 'Longitude' 'CovidPos']\n",
      "\n",
      "\n",
      "Variables to drop ['HeightInMeters', 'WeightInKilograms', 'PhysicalHealthDays', 'MentalHealthDays', 'PhysicalActivities', 'RemovedTeeth', 'HadCOPD', 'HadArthritis', 'HadDiabetes', 'DifficultyConcentrating', 'DifficultyWalking', 'DifficultyDressingBathing', 'DifficultyErrands', 'GeneralHealth', 'HadDepressiveDisorder', 'SmokerStatus', 'AgeCategory', 'PneumoVaxEver', 'ECigaretteUsage', 'LastCheckupTime', 'ChestScan', 'FluVaxLast12', 'Sex', 'BMI']\n",
      "\n",
      "\n",
      "Original data: train=(265752, 41), test=(113894, 41)\n",
      "After redundant FS: train_cp=(265752, 17), test_cp=(113894, 17)\n"
     ]
    }
   ],
   "source": [
    "path = '../../datasets/feature_selection/'\n",
    "train_cp, test_cp = select_variables(df, target, path, method='redundant', param=0.25)"
   ]
  },
  {
   "cell_type": "code",
   "execution_count": 66,
   "metadata": {},
   "outputs": [
    {
     "name": "stdout",
     "output_type": "stream",
     "text": [
      "Original variables ['Sex' 'GeneralHealth' 'PhysicalHealthDays' 'MentalHealthDays'\n",
      " 'LastCheckupTime' 'PhysicalActivities' 'SleepHours' 'RemovedTeeth'\n",
      " 'HadHeartAttack' 'HadAngina' 'HadStroke' 'HadAsthma' 'HadSkinCancer'\n",
      " 'HadCOPD' 'HadDepressiveDisorder' 'HadKidneyDisease' 'HadArthritis'\n",
      " 'HadDiabetes' 'DeafOrHardOfHearing' 'BlindOrVisionDifficulty'\n",
      " 'DifficultyConcentrating' 'DifficultyWalking' 'DifficultyDressingBathing'\n",
      " 'DifficultyErrands' 'SmokerStatus' 'ECigaretteUsage' 'ChestScan'\n",
      " 'RaceEthnicityCategory' 'AgeCategory' 'HeightInMeters'\n",
      " 'WeightInKilograms' 'BMI' 'AlcoholDrinkers' 'HIVTesting' 'FluVaxLast12'\n",
      " 'PneumoVaxEver' 'TetanusLast10Tdap' 'HighRiskLastYear' 'Latitude'\n",
      " 'Longitude' 'CovidPos']\n",
      "\n",
      "\n",
      "Variables to drop []\n",
      "\n",
      "\n",
      "Original data: train=(265752, 41), test=(113894, 41)\n",
      "After redundant FS: train_cp=(265752, 41), test_cp=(113894, 41)\n"
     ]
    }
   ],
   "source": [
    "path = '../../datasets/feature_selection/'\n",
    "train_cp, test_cp = select_variables(df, target, path, method='redundant', param=0.5)"
   ]
  },
  {
   "cell_type": "code",
   "execution_count": 68,
   "metadata": {},
   "outputs": [
    {
     "data": {
      "text/plain": [
       "CovidPos\n",
       "0.0    269026\n",
       "1.0    110620\n",
       "Name: count, dtype: int64"
      ]
     },
     "execution_count": 68,
     "metadata": {},
     "output_type": "execute_result"
    }
   ],
   "source": [
    "df[\"CovidPos\"].value_counts()"
   ]
  }
 ],
 "metadata": {
  "kernelspec": {
   "display_name": ".venv",
   "language": "python",
   "name": "python3"
  },
  "language_info": {
   "codemirror_mode": {
    "name": "ipython",
    "version": 3
   },
   "file_extension": ".py",
   "mimetype": "text/x-python",
   "name": "python",
   "nbconvert_exporter": "python",
   "pygments_lexer": "ipython3",
   "version": "3.12.0"
  }
 },
 "nbformat": 4,
 "nbformat_minor": 2
}
